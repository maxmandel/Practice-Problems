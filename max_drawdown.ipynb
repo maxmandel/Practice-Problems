{
 "cells": [
  {
   "cell_type": "code",
   "execution_count": 1,
   "id": "a6f72f24-43da-4961-b8b8-9c0ffea0cc07",
   "metadata": {},
   "outputs": [],
   "source": [
    "def max_drawdown_1(prices):\n",
    "    \"\"\"\n",
    "    Considers list of prices over time period and returns max drawdown.\n",
    "    \"\"\"\n",
    "    curr_max = 0\n",
    "    losses = [0]*len(prices)\n",
    "    for i in range(len(prices)):\n",
    "        if prices[i] > curr_max:\n",
    "            curr_max = prices[i]\n",
    "            \n",
    "        losses[i] = curr_max - prices[i]\n",
    "\n",
    "    return max(losses)\n"
   ]
  },
  {
   "cell_type": "code",
   "execution_count": 11,
   "id": "3e704157-970b-4d6b-b63a-e168e11f4c1e",
   "metadata": {},
   "outputs": [
    {
     "data": {
      "text/plain": [
       "45"
      ]
     },
     "execution_count": 11,
     "metadata": {},
     "output_type": "execute_result"
    }
   ],
   "source": [
    "max_drawdown_1([100, 110, 100, 90, 80, 105, 95, 65, 180, 140])"
   ]
  },
  {
   "cell_type": "code",
   "execution_count": 45,
   "id": "ce342e8a-712c-4853-8d90-33591397af9b",
   "metadata": {},
   "outputs": [],
   "source": [
    "def max_drawdown_2(prices):\n",
    "    \"\"\"\n",
    "    Considers list of prices over time period and returns max drawdown as well as \n",
    "    buy, sell indices yielding the worst-case loss. Runs in O(n) time.\n",
    "    \"\"\"\n",
    "    curr_max = 0\n",
    "    buy_idxs = []\n",
    "    curr_md = 0\n",
    "    sell_idxs = []\n",
    "\n",
    "    for i in range(len(prices)):\n",
    "        \n",
    "        if prices[i] > curr_max:\n",
    "            curr_max = prices[i]\n",
    "            buy_idxs.append(i)\n",
    "            \n",
    "        if (curr_max - prices[i] > curr_md):\n",
    "            curr_md = curr_max - prices[i]\n",
    "            sell_idxs.append(i)\n",
    "    \n",
    "    sell_idx = sell_idxs[-1]\n",
    "    for i in range(1, len(buy_idxs)):\n",
    "        if buy_idxs[-i] < sell_idx:\n",
    "            buy_idx = buy_idxs[-i]\n",
    "            break\n",
    "\n",
    "    return curr_md, (buy_idx, sell_idx)\n",
    "        "
   ]
  },
  {
   "cell_type": "code",
   "execution_count": 47,
   "id": "8620dd8f-2c2f-4377-987d-0e46d10cd999",
   "metadata": {},
   "outputs": [
    {
     "data": {
      "text/plain": [
       "(45, (1, 7))"
      ]
     },
     "execution_count": 47,
     "metadata": {},
     "output_type": "execute_result"
    }
   ],
   "source": [
    "max_drawdown_2([100, 110, 100, 90, 80, 105, 95, 65, 180, 140])"
   ]
  }
 ],
 "metadata": {
  "kernelspec": {
   "display_name": "Python [conda env:base] *",
   "language": "python",
   "name": "conda-base-py"
  },
  "language_info": {
   "codemirror_mode": {
    "name": "ipython",
    "version": 3
   },
   "file_extension": ".py",
   "mimetype": "text/x-python",
   "name": "python",
   "nbconvert_exporter": "python",
   "pygments_lexer": "ipython3",
   "version": "3.12.2"
  }
 },
 "nbformat": 4,
 "nbformat_minor": 5
}
